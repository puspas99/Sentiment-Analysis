{
 "cells": [
  {
   "cell_type": "code",
   "execution_count": 23,
   "metadata": {},
   "outputs": [],
   "source": []
  },
  {
   "cell_type": "code",
   "execution_count": 2,
   "metadata": {},
   "outputs": [],
   "source": [
    "import pandas as pd\n",
    "import tweepy\n",
    "\n",
    "consumer_key = \"7wYAUMjG8SA6sQEsNelOhPB9q\"\n",
    "consumer_secret = \"I1Y1pnQLGAQnZwVtE4yeCs6O5Gr6Ix1DNubsm2rmUvAVDSbWtP\"\n",
    "access_token = \"1302216922130382849-MWpjCHDAa2IGg7nGRlMHUDQgkc5WlW\"\n",
    "access_token_secret = \"MIeGuC5P34lz36sDUzoPBo5YPcepUrYvwzKcJFnmE1nJ8\"\n",
    "auth = tweepy.OAuthHandler(consumer_key, consumer_secret)\n",
    "auth.set_access_token(access_token, access_token_secret)\n",
    "api = tweepy.API(auth,wait_on_rate_limit=True)\n",
    "\n",
    "\n",
    "username = ''\n",
    "\n",
    "#coordinates = '19.402833,-99.141051,50mi'\n",
    "language = 'en'\n",
    "#text_query = 'Coronavirus since:2020-04-01 until:2020-04-03 include:retweets lang:en'\n",
    "text_query = 'Coronavirus since:2020-10-01 until:2020-10-03 include:retweets lang:en'\n",
    "result_type = 'recent'\n",
    "until_date = '2020-08-10'\n",
    "max_tweets = 2000\n",
    "\n",
    "try:     \n",
    " # Creation of query method using parameters\n",
    " #tweets = tweepy.Cursor(api.user_timeline,id=username).items(max_tweets)\n",
    " tweets = tweepy.Cursor(api.search,q=text_query).items(max_tweets)\n",
    " # Creation of query method using parameters\n",
    " #tweets = tweepy.Cursor(api.search, geocode=coordinates, lang=language, result_type = result_type, until = until_date, count = 100).items(max_tweets)\n",
    " \n",
    " # Pulling information from tweets iterable object\n",
    " tweets_list = [[tweet.created_at,  tweet.user.screen_name, tweet.user.location, tweet.text, tweet.user.followers_count] for tweet in tweets]\n",
    " #tweets_list = [[tweet.text, tweet.created_at, tweet.id_str, tweet.user.name, tweet.user.screen_name, \n",
    " #tweet.user.id_str, tweet.user.location, tweet.user.url, tweet.user.description, tweet.user.verified,\n",
    " #tweet.user.followers_count, tweet.user.friends_count, tweet.user.favourites_count, tweet.user.statuses_count, tweet.user.listed_count, tweet.user.created_at, tweet.user.profile_image_url_https, tweet.user.default_profile, tweet.user.default_profile_image] for tweet in tweets]\n",
    " \n",
    " # Creation of dataframe from tweets list\n",
    " # Add or remove columns as you remove tweet information\n",
    " tweets_df = pd.DataFrame(tweets_list)\n",
    "\n",
    "\n",
    " # saving the dataframe \n",
    " tweets_df.to_csv('Coronavirus_oct02.csv') \n",
    " #print(tweets_df)\n",
    "except BaseException as e:\n",
    "      print('failed on_status,',str(e))\n",
    "     # time.sleep(3)\n",
    "     \n",
    "\n",
    " \n",
    " "
   ]
  },
  {
   "cell_type": "code",
   "execution_count": null,
   "metadata": {},
   "outputs": [],
   "source": []
  },
  {
   "cell_type": "code",
   "execution_count": null,
   "metadata": {},
   "outputs": [],
   "source": []
  }
 ],
 "metadata": {
  "kernelspec": {
   "display_name": "Python [conda env:tf]",
   "language": "python",
   "name": "conda-env-tf-py"
  },
  "language_info": {
   "codemirror_mode": {
    "name": "ipython",
    "version": 3
   },
   "file_extension": ".py",
   "mimetype": "text/x-python",
   "name": "python",
   "nbconvert_exporter": "python",
   "pygments_lexer": "ipython3",
   "version": "3.7.7"
  }
 },
 "nbformat": 4,
 "nbformat_minor": 2
}
